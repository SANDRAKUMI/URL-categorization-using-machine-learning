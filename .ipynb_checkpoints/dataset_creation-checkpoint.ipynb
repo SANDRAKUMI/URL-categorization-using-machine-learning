{
 "cells": [
  {
   "cell_type": "code",
   "execution_count": 2,
   "metadata": {},
   "outputs": [
    {
     "name": "stderr",
     "output_type": "stream",
     "text": [
      "[nltk_data] Downloading package stopwords to\n",
      "[nltk_data]     /home/domantas/nltk_data...\n",
      "[nltk_data]   Package stopwords is already up-to-date!\n",
      "[nltk_data] Downloading package words to /home/domantas/nltk_data...\n",
      "[nltk_data]   Package words is already up-to-date!\n",
      "[nltk_data] Downloading package wordnet to /home/domantas/nltk_data...\n",
      "[nltk_data]   Package wordnet is already up-to-date!\n"
     ]
    },
    {
     "data": {
      "text/plain": [
       "True"
      ]
     },
     "execution_count": 2,
     "metadata": {},
     "output_type": "execute_result"
    }
   ],
   "source": [
    "import pandas as pd\n",
    "import nltk\n",
    "from nltk.stem import WordNetLemmatizer\n",
    "from nltk.tokenize import RegexpTokenizer\n",
    "import ast\n",
    "import numpy as np\n",
    "import os\n",
    "import ast\n",
    "import urllib.request\n",
    "from urllib.request import urlopen\n",
    "from bs4 import BeautifulSoup\n",
    "import os.path\n",
    "from datetime import datetime\n",
    "from collections import Counter\n",
    "\n",
    "nltk.download('stopwords')\n",
    "nltk.download('words')\n",
    "nltk.download('wordnet')"
   ]
  },
  {
   "cell_type": "code",
   "execution_count": 3,
   "metadata": {},
   "outputs": [],
   "source": [
    "month = \"december_test\"\n",
    "char_blacklist = list(chr(i) for i in range(32, 127) if i <= 64 or i >= 91 and i <= 96 or i >= 123)\n",
    "stopwords = nltk.corpus.stopwords.words('english')\n",
    "stopwords.extend(char_blacklist)\n",
    "english_vocab = set(w.lower() for w in nltk.corpus.words.words())\n",
    "english_tolerance = 50\n",
    "english_confidence = []\n",
    "words_threshold = 15\n",
    "top = 2500\n",
    "toker = RegexpTokenizer(r'((?<=[^\\w\\s])\\w(?=[^\\w\\s])|(\\W))+', gaps=True)"
   ]
  },
  {
   "cell_type": "code",
   "execution_count": 4,
   "metadata": {},
   "outputs": [
    {
     "name": "stderr",
     "output_type": "stream",
     "text": [
      "/home/domantas/.local/lib/python3.6/site-packages/IPython/core/interactiveshell.py:3185: DtypeWarning: Columns (3,25) have mixed types. Specify dtype option on import or set low_memory=False.\n",
      "  if (yield from self.run_code(code, result)):\n"
     ]
    },
    {
     "name": "stdout",
     "output_type": "stream",
     "text": [
      "000webhost.com, 1/50; Time: 2018-12-30 01:37:01.394915\n",
      "022menchuang.net, 2/50; Time: 2018-12-30 01:37:04.756212\n",
      "022menchuang.net Failed\n",
      "055firenze.it, 3/50; Time: 2018-12-30 01:37:04.839311\n",
      "0calc.com, 4/50; Time: 2018-12-30 01:37:05.702220\n",
      "1-x-bet.com, 5/50; Time: 2018-12-30 01:37:06.223145\n",
      "1000-instrumentov.ru, 6/50; Time: 2018-12-30 01:37:06.953242\n"
     ]
    },
    {
     "name": "stderr",
     "output_type": "stream",
     "text": [
      "Some characters could not be decoded, and were replaced with REPLACEMENT CHARACTER.\n"
     ]
    },
    {
     "name": "stdout",
     "output_type": "stream",
     "text": [
      "1000.menu, 7/50; Time: 2018-12-30 01:37:07.865374\n",
      "1000ps.at, 8/50; Time: 2018-12-30 01:37:08.503512\n",
      "10086.cn, 9/50; Time: 2018-12-30 01:37:11.001533\n",
      "100diet.net, 10/50; Time: 2018-12-30 01:37:12.270506\n",
      "104.com, 11/50; Time: 2018-12-30 01:37:12.719113\n",
      "1091.co.jp, 12/50; Time: 2018-12-30 01:37:14.043210\n",
      "10bet.com, 13/50; Time: 2018-12-30 01:37:16.207232\n",
      "10betlive.com, 14/50; Time: 2018-12-30 01:37:19.334923\n",
      "10betlive.com Failed\n",
      "1100ad.com, 15/50; Time: 2018-12-30 01:37:22.668759\n",
      "111.com.cn, 16/50; Time: 2018-12-30 01:37:23.300657\n",
      "1111.com.tw, 17/50; Time: 2018-12-30 01:37:33.173132\n",
      "111cn.net, 18/50; Time: 2018-12-30 01:37:39.991011\n",
      "112-magazin.de, 19/50; Time: 2018-12-30 01:37:43.712003\n",
      "121ware.com, 20/50; Time: 2018-12-30 01:37:50.555618\n",
      "123project.ir, 21/50; Time: 2018-12-30 01:37:55.299957\n",
      "123vidz.com, 22/50; Time: 2018-12-30 01:37:58.962899\n",
      "1337x.to, 23/50; Time: 2018-12-30 01:38:00.312587\n",
      "13980.com, 24/50; Time: 2018-12-30 01:38:00.598228\n",
      "13980.com Failed\n",
      "140online.com, 25/50; Time: 2018-12-30 01:38:15.918426\n",
      "155chan.info, 26/50; Time: 2018-12-30 01:38:16.931067\n",
      "155chan.info Failed\n",
      "1688.com, 27/50; Time: 2018-12-30 01:38:17.051796\n",
      "177tvb.com, 28/50; Time: 2018-12-30 01:38:19.360668\n",
      "178.com, 29/50; Time: 2018-12-30 01:38:21.678945\n",
      "178.com Failed\n",
      "1800contacts.com, 30/50; Time: 2018-12-30 01:38:36.982741\n",
      "188bet.com, 31/50; Time: 2018-12-30 01:38:41.550305\n",
      "189.cn, 32/50; Time: 2018-12-30 01:38:42.290159\n",
      "18pornolar.com, 33/50; Time: 2018-12-30 01:38:43.514198\n",
      "1hai.cn, 34/50; Time: 2018-12-30 01:38:43.869970\n",
      "1hai.cn Failed\n",
      "1kkk.com, 35/50; Time: 2018-12-30 01:38:44.835485\n",
      "1st4immigration.com, 36/50; Time: 2018-12-30 01:39:11.045024\n",
      "1stwebdesigner.com, 37/50; Time: 2018-12-30 01:39:14.717918\n",
      "1tu.com, 38/50; Time: 2018-12-30 01:39:15.927110\n",
      "1tu.com Failed\n",
      "1x-bet.com, 39/50; Time: 2018-12-30 01:39:31.593338\n",
      "20000-names.com, 40/50; Time: 2018-12-30 01:39:32.375832\n",
      "2016dvlottery.com, 41/50; Time: 2018-12-30 01:39:33.514604\n",
      "2016dvlottery.com Failed\n",
      "20jack.net, 42/50; Time: 2018-12-30 01:39:34.556283\n",
      "21grandcasinos.com, 43/50; Time: 2018-12-30 01:39:35.363155\n",
      "21novacasino.com, 44/50; Time: 2018-12-30 01:39:36.928877\n",
      "21st.com, 45/50; Time: 2018-12-30 01:39:38.108653\n",
      "21st.com Failed\n",
      "247sudoku.com, 46/50; Time: 2018-12-30 01:39:38.698681\n",
      "24day0am.com, 47/50; Time: 2018-12-30 01:39:39.771272\n",
      "24day0am.com Failed\n",
      "24hair.ru, 48/50; Time: 2018-12-30 01:39:39.854636\n",
      "24hourcampfire.com, 49/50; Time: 2018-12-30 01:39:40.944434\n",
      "24om.com, 50/50; Time: 2018-12-30 01:39:42.048316\n"
     ]
    }
   ],
   "source": [
    "def no_filter_data():\n",
    "    file = 'Datasets/URL-categorization-DFE.csv'\n",
    "    df = pd.read_csv(file)[['main_category', 'main_category:confidence', 'url']]\n",
    "    df = df[(df['main_category'] != 'Not_working') & (df['main_category:confidence'] > 0.5)][:50]\n",
    "    df['tokenized_words'] = ''\n",
    "    counter = 0\n",
    "    for i, row in df.iterrows():\n",
    "        counter += 1\n",
    "        print(\"{}, {}/{}; Time: {}\".format(row['url'], counter, len(df), str(datetime.now())))\n",
    "        try:\n",
    "            hdr = {'User-Agent': 'Mozilla/5.0 (X11; Linux x86_64) AppleWebKit/537.11 (KHTML, like Gecko) Chrome/23.0.1271.64 Safari/537.11',\n",
    "               'Accept': 'text/html,application/xhtml+xml,application/xml;q=0.9,*/*;q=0.8',\n",
    "               'Accept-Charset': 'ISO-8859-1,utf-8;q=0.7,*;q=0.3',\n",
    "               'Accept-Encoding': 'none',\n",
    "               'Accept-Language': 'en-US,en;q=0.8',\n",
    "               'Connection': 'keep-alive'}\n",
    "            req = urllib.request.Request('http://' + row['url'], headers=hdr)\n",
    "            html = urlopen(req, timeout=15).read()\n",
    "        except:\n",
    "            print(\"{} Failed\".format(row['url']))\n",
    "            continue\n",
    "\n",
    "        soup = BeautifulSoup(html, \"html.parser\")\n",
    "        [tag.decompose() for tag in soup(\"script\")]\n",
    "        [tag.decompose() for tag in soup(\"style\")]\n",
    "        text = soup.get_text()\n",
    "        lines = (line.strip() for line in text.splitlines())\n",
    "        chunks = (phrase.strip() for line in lines for phrase in line.split(\"  \"))\n",
    "        text = '\\n'.join(chunk.lower() for chunk in chunks if chunk)\n",
    "        # Tokenize text\n",
    "        wnl = WordNetLemmatizer()\n",
    "        tokens = [token.lower() for token in toker.tokenize(text)]\n",
    "        # Remove stopwords\n",
    "        tokens = [token.lower() for token in toker.tokenize(text)]\n",
    "        tokens_stopwords = [w.lower() for w in tokens if w not in stopwords and len(w) >= 3 and w[0] not in char_blacklist]\n",
    "        tokens_lemmatize = [wnl.lemmatize(token) for token in tokens_stopwords]\n",
    "        # Calculate percentage of english words\n",
    "        english_tokens = []\n",
    "        for word in tokens_lemmatize:\n",
    "            if word.lower() in english_vocab:\n",
    "                english_tokens.append(word.lower())\n",
    "        english_confidence = len(english_tokens) / len(tokens_lemmatize) * 100 if len(english_tokens) > 0 else 0\n",
    "        if len(english_tokens) < words_threshold:\n",
    "            continue\n",
    "        df.at[i, 'tokenized_words'] = english_tokens if english_confidence > english_tolerance else ''\n",
    "        df.at[i, 'english:confidence'] = english_confidence\n",
    "        \n",
    "    df = df[~df['tokenized_words'].isnull()]\n",
    "    df.to_csv(\"Datasets/full_data_{}.csv\".format(month))\n",
    "if not os.path.isfile(\"Datasets/full_data_{}.csv\".format(month)):\n",
    "    no_filter_data()"
   ]
  },
  {
   "cell_type": "code",
   "execution_count": 5,
   "metadata": {},
   "outputs": [],
   "source": [
    "df = pd.read_csv(\"Datasets/full_data_{}.csv\".format(month))\n",
    "df = df[df['english:confidence'] > english_tolerance]"
   ]
  },
  {
   "cell_type": "markdown",
   "metadata": {},
   "source": [
    "# Count words frequency for each category"
   ]
  },
  {
   "cell_type": "code",
   "execution_count": 9,
   "metadata": {},
   "outputs": [],
   "source": [
    "words_frequency = {}\n",
    "for category in set(df['main_category'].values):\n",
    "    all_words = []\n",
    "    for row in df[df['main_category'] == category]['tokenized_words'].tolist():\n",
    "        all_words = all_words + ast.literal_eval(row)\n",
    "    allWordExceptStopDist = nltk.FreqDist(w.lower() for w in all_words)\n",
    "    most_common = allWordExceptStopDist.most_common(top)\n",
    "    words_frequency[category] = [word for word, number in most_common]"
   ]
  },
  {
   "cell_type": "markdown",
   "metadata": {},
   "source": [
    "# Create labels and features set for ML"
   ]
  },
  {
   "cell_type": "code",
   "execution_count": null,
   "metadata": {},
   "outputs": [],
   "source": [
    "features = np.zeros(df.shape[0] * top).reshape(df.shape[0], top)\n",
    "labels = np.zeros(df.shape[0])\n",
    "counter = 0\n",
    "for i, row in df.iterrows():\n",
    "    c = [word for word, word_count in Counter(ast.literal_eval(row['tokenized_words'])).most_common(top)]\n",
    "    labels[counter] = list(set(df['main_category'].values)).index(row['main_category'])\n",
    "    for word in c:\n",
    "        if word in words_frequency[row['main_category']]:\n",
    "            features[counter][words_frequency[row['main_category']].index(word)] = 1\n",
    "    counter += 1\n",
    "\n",
    "from sklearn.metrics import accuracy_score\n",
    "from scipy.sparse import coo_matrix\n",
    "X_sparse = coo_matrix(features)\n",
    "\n",
    "from sklearn.utils import shuffle\n",
    "X, X_sparse, y = shuffle(features, X_sparse, labels, random_state=0)\n",
    "\n",
    "from sklearn.model_selection import train_test_split\n",
    "X_train, X_test, y_train, y_test = train_test_split(X, y, test_size=0.33, random_state=42)"
   ]
  },
  {
   "cell_type": "markdown",
   "metadata": {},
   "source": [
    "# Train and validate data using ML algorithms"
   ]
  },
  {
   "cell_type": "code",
   "execution_count": null,
   "metadata": {},
   "outputs": [],
   "source": [
    "from sklearn.linear_model import LogisticRegression\n",
    "lr = LogisticRegression()\n",
    "lr.fit(X_train, y_train)\n",
    "predictions = lr.predict(X_test)\n",
    "score = lr.score(X_test, y_test)\n",
    "print('LogisticRegression')\n",
    "print('Score: ', score)\n",
    "print('Top: ', top)\n",
    "print('Tolerance: ', english_tolerance)\n",
    "print('Dataset length: ', df.shape[0])\n",
    "print()\n",
    "from sklearn.tree import DecisionTreeClassifier\n",
    "dtc = DecisionTreeClassifier()\n",
    "dtc.fit(X_train, y_train)\n",
    "predictions = dtc.predict(X_test)\n",
    "score = dtc.score(X_test, y_test)\n",
    "print('DecisionTreeClassifier')\n",
    "print('Score: ', score)\n",
    "print('Top: ', top)\n",
    "print('Tolerance: ', english_tolerance)\n",
    "print('Dataset length: ', df.shape[0])\n",
    "print()\n",
    "from sklearn.svm import LinearSVC\n",
    "clf = LinearSVC()\n",
    "clf.fit(X_train, y_train)\n",
    "predictions = clf.predict(X_test)\n",
    "score = clf.score(X_test, y_test)\n",
    "print('SVM')\n",
    "print('Score: ', score)\n",
    "print('Top: ', top)\n",
    "print('Tolerance: ', english_tolerance)\n",
    "print('Dataset length: ', df.shape[0])"
   ]
  },
  {
   "cell_type": "markdown",
   "metadata": {},
   "source": [
    "# Save models"
   ]
  },
  {
   "cell_type": "code",
   "execution_count": null,
   "metadata": {},
   "outputs": [],
   "source": [
    "from sklearn.externals import joblib\n",
    "filename = \"Models/LR_model_{}.joblib\".format(month)\n",
    "if not os.path.isfile(filename):\n",
    "    joblib.dump(lr, filename)\n",
    "\n",
    "import pickle\n",
    "words_filename = \"Models/word_frequency_{}.picle\".format(month)\n",
    "if not os.path.isfile(words_filename):\n",
    "    pickle_out = open(words_filename,\"wb\")\n",
    "    pickle.dump(words_frequency, pickle_out)\n",
    "    pickle_out.close()\n",
    "\n",
    "filename = \"Models/LR_maxtrain_{}.joblib\".format(month)\n",
    "if not os.path.isfile(filename):\n",
    "    from sklearn.linear_model import LogisticRegression\n",
    "    lr = LogisticRegression()\n",
    "    lr.fit(X, y)\n",
    "    joblib.dump(lr, filename)"
   ]
  }
 ],
 "metadata": {
  "kernelspec": {
   "display_name": "Python 3",
   "language": "python",
   "name": "python3"
  },
  "language_info": {
   "codemirror_mode": {
    "name": "ipython",
    "version": 3
   },
   "file_extension": ".py",
   "mimetype": "text/x-python",
   "name": "python",
   "nbconvert_exporter": "python",
   "pygments_lexer": "ipython3",
   "version": "3.6.7"
  }
 },
 "nbformat": 4,
 "nbformat_minor": 2
}
